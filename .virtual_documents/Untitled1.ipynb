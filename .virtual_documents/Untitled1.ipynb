import pandas as pd
import json
import requests

# Load data from web
demographics_url = 'https://ils.unc.edu/courses/2024_fall/chip490_335/patient_demographics.csv'
cmp_url = 'https://ils.unc.edu/courses/2024_fall/chip490_335/cmp.json'

try:
    patient_demographics = pd.read_csv(demographics_url)
    response = requests.get(cmp_url)
    cmp_raw_data = response.json()
except Exception as e:
    print(f"Error loading data: {e}")
    raise  # Reraise the error to prevent proceeding with invalid data

# Normalize column names in patient demographics
patient_demographics.columns = patient_demographics.columns.str.strip().str.lower()

# Flatten the CMP data
cmp_list = []
for patient_id, measurements in cmp_raw_data.items():
    patient_dict = {'patient_id': patient_id}
    for measurement in measurements:
        # Add each measure to the patient dictionary (e.g., Sodium, Potassium)
        measure_name = measurement['measure'].lower().replace(' ', '_').replace('(', '').replace(')', '')
        patient_dict[measure_name] = measurement['patient_measure']
    cmp_list.append(patient_dict)

# Convert the list of patient dictionaries to a DataFrame
cmp_data = pd.DataFrame(cmp_list)

# Normalize column names in cmp_data
cmp_data.columns = cmp_data.columns.str.strip().str.lower()

# Convert patient_id to match the type in patient_demographics (in case they are different)
cmp_data['patient_id'] = cmp_data['patient_id'].astype(str)
patient_demographics['patient_id'] = patient_demographics['patient_id'].astype(str)

# Merge the data on 'patient_id'
try:
    df = pd.merge(patient_demographics, cmp_data, on='patient_id')
except KeyError as e:
    print(f"Error merging dataframes: {e}")
    raise

# Calculate eGFR using the CKD-EPI equation (simplified version)
def calculate_egfr(creatinine, age, sex):
    if sex == 'female':
        kappa = 0.7
        alpha = -0.329
        sex_factor = 1.018
    else:
        kappa = 0.9
        alpha = -0.411
        sex_factor = 1.0

    egfr = 141 * min(creatinine / kappa, 1) ** alpha * max(creatinine / kappa, 1) ** -1.209 * (0.993 ** age) * sex_factor
    return egfr

# Apply the eGFR calculation to the DataFrame
try:
    df['patient_egfr'] = df.apply(lambda row: calculate_egfr(row['creatinine'], row['age'], row['sex']), axis=1)
except KeyError as e:
    print(f"Missing columns for eGFR calculation: {e}")
    raise

# Calculate BMI
try:
    df['bmi'] = (df['weight_lbs'] * 703) / (df['height_inches'] ** 2)
except KeyError as e:
    print(f"Missing columns for BMI calculation: {e}")
    raise

# Rename columns if needed for easier access
df.rename(columns={
    'age': 'patient_age', 
    'height_inches': 'patient_height', 
    'weight_lbs': 'patient_weight', 
    'sex': 'patient_sex'
}, inplace=True)

# Create the filtered DataFrame with patients in need of screening
filtered_df = df[df['patient_egfr'] <= 65]

# Select relevant fields for the final output DataFrame
output_df = filtered_df[['patient_id', 'patient_age', 'patient_height', 'patient_weight', 'bmi', 'patient_sex', 'patient_egfr']]

# Display or return the output DataFrame as needed
print(output_df)



import pandas as pd
import matplotlib.pyplot as plt

# Load the output DataFrame (assuming it's already created as 'output_df')
# If this is being run separately, you may need to load or generate 'output_df' accordingly.

# Part 1: Descriptive Statistics for Age, Height, and Weight
print("Descriptive Statistics for Age, Height, and Weight")
descriptive_stats = output_df[['patient_age', 'patient_height', 'patient_weight']].describe()
print(descriptive_stats)

# Part 2: Bar Chart of Average eGFR by BMI Category
# Define BMI categories
bins = [0, 18.5, 24.9, 29.9, float('inf')]
labels = ['Underweight', 'Normal Weight', 'Overweight', 'Obese']
output_df['bmi_category'] = pd.cut(output_df['bmi'], bins=bins, labels=labels)

# Calculate average eGFR for each BMI category
avg_egfr = output_df.groupby('bmi_category')['patient_egfr'].mean()

# Plotting the bar chart
plt.figure(figsize=(10, 6))
avg_egfr.plot(kind='bar')
plt.xlabel('BMI Category')
plt.ylabel('Average eGFR')
plt.title('Average eGFR by BMI Category')
plt.xticks(rotation=45)
plt.show()

# Part 3: Scatter Plot of Age vs. eGFR
plt.figure(figsize=(10, 6))
plt.scatter(output_df['patient_age'], output_df['patient_egfr'], alpha=0.5)
plt.xlabel('Patient Age')
plt.ylabel('Patient eGFR')
plt.title('Scatter Plot of Age vs. eGFR')
plt.show()

# Part 4: Pie Chart of Patient Sex
plt.figure(figsize=(8, 8))
output_df['patient_sex'].value_counts().plot(kind='pie', autopct='%1.1f%%', startangle=140)
plt.title('Distribution of Patient Sex')
plt.ylabel('')
plt.show()




